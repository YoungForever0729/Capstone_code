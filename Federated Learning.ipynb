{
 "cells": [
  {
   "cell_type": "markdown",
   "metadata": {},
   "source": [
    "import"
   ]
  },
  {
   "cell_type": "code",
   "execution_count": 1,
   "metadata": {},
   "outputs": [],
   "source": [
    "import torch\n",
    "import torch.nn as nn\n",
    "import torch.optim as optim\n",
    "from torch.utils.data import DataLoader, TensorDataset\n",
    "from torchvision import datasets, transforms"
   ]
  },
  {
   "cell_type": "markdown",
   "metadata": {},
   "source": [
    "load MNIST dataset"
   ]
  },
  {
   "cell_type": "code",
   "execution_count": 2,
   "metadata": {},
   "outputs": [
    {
     "name": "stdout",
     "output_type": "stream",
     "text": [
      "Downloading http://yann.lecun.com/exdb/mnist/train-images-idx3-ubyte.gz\n",
      "Failed to download (trying next):\n",
      "HTTP Error 403: Forbidden\n",
      "\n",
      "Downloading https://ossci-datasets.s3.amazonaws.com/mnist/train-images-idx3-ubyte.gz\n",
      "Downloading https://ossci-datasets.s3.amazonaws.com/mnist/train-images-idx3-ubyte.gz to ./data\\MNIST\\raw\\train-images-idx3-ubyte.gz\n"
     ]
    },
    {
     "name": "stderr",
     "output_type": "stream",
     "text": [
      "100.0%\n"
     ]
    },
    {
     "name": "stdout",
     "output_type": "stream",
     "text": [
      "Extracting ./data\\MNIST\\raw\\train-images-idx3-ubyte.gz to ./data\\MNIST\\raw\n",
      "\n",
      "Downloading http://yann.lecun.com/exdb/mnist/train-labels-idx1-ubyte.gz\n",
      "Failed to download (trying next):\n",
      "HTTP Error 403: Forbidden\n",
      "\n",
      "Downloading https://ossci-datasets.s3.amazonaws.com/mnist/train-labels-idx1-ubyte.gz\n",
      "Downloading https://ossci-datasets.s3.amazonaws.com/mnist/train-labels-idx1-ubyte.gz to ./data\\MNIST\\raw\\train-labels-idx1-ubyte.gz\n"
     ]
    },
    {
     "name": "stderr",
     "output_type": "stream",
     "text": [
      "100.0%\n"
     ]
    },
    {
     "name": "stdout",
     "output_type": "stream",
     "text": [
      "Extracting ./data\\MNIST\\raw\\train-labels-idx1-ubyte.gz to ./data\\MNIST\\raw\n",
      "\n",
      "Downloading http://yann.lecun.com/exdb/mnist/t10k-images-idx3-ubyte.gz\n",
      "Failed to download (trying next):\n",
      "HTTP Error 403: Forbidden\n",
      "\n",
      "Downloading https://ossci-datasets.s3.amazonaws.com/mnist/t10k-images-idx3-ubyte.gz\n",
      "Downloading https://ossci-datasets.s3.amazonaws.com/mnist/t10k-images-idx3-ubyte.gz to ./data\\MNIST\\raw\\t10k-images-idx3-ubyte.gz\n"
     ]
    },
    {
     "name": "stderr",
     "output_type": "stream",
     "text": [
      "100.0%\n"
     ]
    },
    {
     "name": "stdout",
     "output_type": "stream",
     "text": [
      "Extracting ./data\\MNIST\\raw\\t10k-images-idx3-ubyte.gz to ./data\\MNIST\\raw\n",
      "\n",
      "Downloading http://yann.lecun.com/exdb/mnist/t10k-labels-idx1-ubyte.gz\n",
      "Failed to download (trying next):\n",
      "HTTP Error 403: Forbidden\n",
      "\n",
      "Downloading https://ossci-datasets.s3.amazonaws.com/mnist/t10k-labels-idx1-ubyte.gz\n",
      "Downloading https://ossci-datasets.s3.amazonaws.com/mnist/t10k-labels-idx1-ubyte.gz to ./data\\MNIST\\raw\\t10k-labels-idx1-ubyte.gz\n"
     ]
    },
    {
     "name": "stderr",
     "output_type": "stream",
     "text": [
      "100.0%"
     ]
    },
    {
     "name": "stdout",
     "output_type": "stream",
     "text": [
      "Extracting ./data\\MNIST\\raw\\t10k-labels-idx1-ubyte.gz to ./data\\MNIST\\raw\n",
      "\n"
     ]
    },
    {
     "name": "stderr",
     "output_type": "stream",
     "text": [
      "\n"
     ]
    }
   ],
   "source": [
    "# Create a transform to convert the images to tensors and normalize them\n",
    "transform = transforms.Compose([transforms.ToTensor(), transforms.Normalize((0.5,), (0.5,))])\n",
    "\n",
    "# Create a training dataset using the MNIST dataset, with the transform applied\n",
    "train_data = datasets.MNIST(root='./data', train=True, download=True, transform=transform)\n",
    "\n",
    "# Create a testing dataset using the MNIST dataset, with the transform applied\n",
    "test_data = datasets.MNIST(root='./data', train=False, download=True, transform=transform)"
   ]
  },
  {
   "cell_type": "markdown",
   "metadata": {},
   "source": [
    "define model"
   ]
  },
  {
   "cell_type": "code",
   "execution_count": 3,
   "metadata": {},
   "outputs": [],
   "source": [
    "class SimpleNN(nn.Module):\n",
    "    # Initialize the SimpleNN class\n",
    "    def __init__(self):\n",
    "        # Call the parent class's constructor\n",
    "        super(SimpleNN, self).__init__()\n",
    "        # Create a flatten layer to flatten the input tensor\n",
    "        self.flatten = nn.Flatten()\n",
    "        # Create a fully connected layer with 128 neurons and an input size of 28 * 28\n",
    "        self.fc1 = nn.Linear(28 * 28, 128)\n",
    "        # Create a ReLU activation function\n",
    "        self.relu = nn.ReLU()\n",
    "        # Create a fully connected layer with 10 neurons and an input size of 128\n",
    "        self.fc2 = nn.Linear(128, 10)\n",
    "        # Create a softmax activation function\n",
    "        self.softmax = nn.Softmax(dim=1)\n",
    "\n",
    "    # Define the forward pass of the network\n",
    "    def forward(self, x):\n",
    "        x = self.flatten(x)\n",
    "        x = self.fc1(x)\n",
    "        x = self.relu(x)\n",
    "        x = self.fc2(x)\n",
    "        x = self.softmax(x)\n",
    "        return x"
   ]
  },
  {
   "cell_type": "markdown",
   "metadata": {},
   "source": [
    "Simulate Federated Learning Client"
   ]
  },
  {
   "cell_type": "code",
   "execution_count": 4,
   "metadata": {},
   "outputs": [],
   "source": [
    "# Define the number of clients\n",
    "num_clients = 5\n",
    "# Calculate the size of data for each client\n",
    "client_data_size = len(train_data) // num_clients\n",
    "clients = []\n",
    "\n",
    "# Loop through the number of clients\n",
    "for i in range(num_clients):\n",
    "    client_indices = list(range(i * client_data_size, (i + 1) * client_data_size))\n",
    "    x_client = torch.stack([train_data[idx][0] for idx in client_indices])\n",
    "    y_client = torch.tensor([train_data[idx][1] for idx in client_indices])\n",
    "    clients.append(DataLoader(TensorDataset(x_client, y_client), batch_size=32, shuffle=True))"
   ]
  },
  {
   "cell_type": "markdown",
   "metadata": {},
   "source": [
    "The process of federated learning"
   ]
  },
  {
   "cell_type": "code",
   "execution_count": 5,
   "metadata": {},
   "outputs": [
    {
     "name": "stdout",
     "output_type": "stream",
     "text": [
      "Federated Learning Round 1\n",
      "Federated Learning Round 2\n",
      "Federated Learning Round 3\n",
      "Federated Learning Round 4\n",
      "Federated Learning Round 5\n"
     ]
    }
   ],
   "source": [
    "# Define a global model\n",
    "global_model = SimpleNN()\n",
    "\n",
    "# Define a function to average the weights of the clients\n",
    "def federated_avg(weights):\n",
    "    # Calculate the average of the weights for each layer\n",
    "    avg_weights = [torch.mean(torch.stack([client_weights[layer] for client_weights in weights]), dim=0) \n",
    "                   for layer in range(len(weights[0]))]\n",
    "    return avg_weights\n",
    "\n",
    "# Define the number of rounds for federated learning\n",
    "num_rounds = 5\n",
    "# Define the loss function\n",
    "criterion = nn.CrossEntropyLoss()\n",
    "\n",
    "# Loop through the number of rounds\n",
    "for round_num in range(num_rounds):\n",
    "    print(f'Federated Learning Round {round_num + 1}')\n",
    "    client_weights = []\n",
    "    \n",
    "    # Loop through the clients\n",
    "    for client_data in clients:\n",
    "        model = SimpleNN()\n",
    "        model.load_state_dict(global_model.state_dict())\n",
    "        optimizer = optim.Adam(model.parameters(), lr=0.001)\n",
    "        model.train()\n",
    "        for x_client, y_client in client_data:\n",
    "            optimizer.zero_grad()\n",
    "            outputs = model(x_client)\n",
    "            loss = criterion(outputs, y_client)\n",
    "            loss.backward()\n",
    "            optimizer.step()\n",
    "        \n",
    "        client_weights.append([param.data.clone() for param in model.parameters()])\n",
    "    \n",
    "    # Aggregate weight\n",
    "    new_weights = federated_avg(client_weights)\n",
    "    # Update the global model weights\n",
    "    for i, param in enumerate(global_model.parameters()):\n",
    "        param.data = new_weights[i]"
   ]
  },
  {
   "cell_type": "markdown",
   "metadata": {},
   "source": [
    "Evaluate the global model on the test set"
   ]
  },
  {
   "cell_type": "code",
   "execution_count": 6,
   "metadata": {},
   "outputs": [
    {
     "name": "stdout",
     "output_type": "stream",
     "text": [
      "Accuracy on the test set: 93.23%\n"
     ]
    }
   ],
   "source": [
    "test_loader = DataLoader(test_data, batch_size=32, shuffle=False)\n",
    "global_model.eval()\n",
    "correct = 0\n",
    "total = 0\n",
    "\n",
    "with torch.no_grad():\n",
    "    for x_test, y_test in test_loader:\n",
    "        outputs = global_model(x_test)\n",
    "        _, predicted = torch.max(outputs.data, 1)\n",
    "        total += y_test.size(0)\n",
    "        correct += (predicted == y_test).sum().item()\n",
    "\n",
    "print(f'Accuracy on the test set: {100 * correct / total}%')"
   ]
  },
  {
   "cell_type": "code",
   "execution_count": null,
   "metadata": {},
   "outputs": [],
   "source": [
    "import torch\n",
    "import torch.nn as nn\n",
    "import torch.optim as optim\n",
    "from torch.utils.data import DataLoader, TensorDataset\n",
    "from torchvision import datasets, transforms\n",
    "\n",
    "# 定义数据预处理\n",
    "transform = transforms.Compose([transforms.ToTensor(), transforms.Normalize((0.5,), (0.5,))])\n",
    "# 加载训练集和测试集\n",
    "train_data = datasets.MNIST(root='./data', train=True, download=True, transform=transform)\n",
    "test_data = datasets.MNIST(root='./data', train=False, download=True, transform=transform)\n",
    "\n",
    "# 定义简单的神经网络模型\n",
    "class SimpleNN(nn.Module):\n",
    "    def __init__(self):\n",
    "        super(SimpleNN, self).__init__()\n",
    "        self.flatten = nn.Flatten()\n",
    "        self.fc1 = nn.Linear(28 * 28, 128)\n",
    "        self.relu = nn.ReLU()\n",
    "        self.fc2 = nn.Linear(128, 10)\n",
    "        self.softmax = nn.Softmax(dim=1)\n",
    "\n",
    "    def forward(self, x):\n",
    "        x = self.flatten(x)\n",
    "        x = self.fc1(x)\n",
    "        x = self.relu(x)\n",
    "        x = self.fc2(x)\n",
    "        x = self.softmax(x)\n",
    "        return x\n",
    "\n",
    "# 定义客户端数量和每个客户端的数据量\n",
    "num_clients = 5\n",
    "client_data_size = len(train_data) // num_clients\n",
    "clients = []\n",
    "\n",
    "# 将训练集划分为每个客户端的数据\n",
    "# 遍历客户端数量\n",
    "for i in range(num_clients):\n",
    "    # 计算每个客户端的数据索引范围\n",
    "    client_indices = list(range(i * client_data_size, (i + 1) * client_data_size))\n",
    "    # 根据索引范围获取每个客户端的数据\n",
    "    x_client = torch.stack([train_data[idx][0] for idx in client_indices])\n",
    "    y_client = torch.tensor([train_data[idx][1] for idx in client_indices])\n",
    "    # 将每个客户端的数据封装成DataLoader，并添加到clients列表中\n",
    "    clients.append(DataLoader(TensorDataset(x_client, y_client), batch_size=32, shuffle=True))\n",
    "\n",
    "# 初始化全局模型\n",
    "global_model = SimpleNN()\n",
    "\n",
    "# 定义联邦平均函数\n",
    "def federated_avg(weights):\n",
    "    # 对每个层的权重进行平均\n",
    "    avg_weights = [torch.mean(torch.stack([client_weights[layer] for client_weights in weights]), dim=0) \n",
    "                   for layer in range(len(weights[0]))]\n",
    "    # 返回平均后的权重\n",
    "    return avg_weights\n",
    "\n",
    "# 定义训练轮数和损失函数\n",
    "num_rounds = 5\n",
    "criterion = nn.CrossEntropyLoss()\n",
    "\n",
    "# 开始联邦学习\n",
    "for round_num in range(num_rounds):\n",
    "    # 开始联邦学习第round_num轮\n",
    "    print(f'Federated Learning Round {round_num + 1}')\n",
    "    client_weights = []\n",
    "    \n",
    "    # 对每个客户端进行训练\n",
    "    for client_data in clients:\n",
    "        model = SimpleNN()\n",
    "        # 加载全局模型参数\n",
    "        model.load_state_dict(global_model.state_dict())\n",
    "        optimizer = optim.Adam(model.parameters(), lr=0.001)\n",
    "        \n",
    "        model.train()\n",
    "        # 对每个客户端数据进行训练\n",
    "        for x_client, y_client in client_data:\n",
    "            optimizer.zero_grad()\n",
    "            outputs = model(x_client)\n",
    "            loss = criterion(outputs, y_client)\n",
    "            loss.backward()\n",
    "            optimizer.step()\n",
    "        \n",
    "        # 将每个客户端的模型参数添加到client_weights列表中\n",
    "        client_weights.append([param.data.clone() for param in model.parameters()])\n",
    "    \n",
    "    # 聚合权重\n",
    "    new_weights = federated_avg(client_weights)\n",
    "    # 更新全局模型参数\n",
    "    for i, param in enumerate(global_model.parameters()):\n",
    "        param.data = new_weights[i]\n",
    "\n",
    "# 在测试集上评估全局模型\n",
    "test_loader = DataLoader(test_data, batch_size=32, shuffle=False)\n",
    "global_model.eval()\n",
    "correct = 0\n",
    "total = 0\n",
    "\n",
    "# 不计算梯度，用于测试模型\n",
    "with torch.no_grad():\n",
    "    # 遍历测试集\n",
    "    for x_test, y_test in test_loader:\n",
    "        # 使用全局模型进行预测\n",
    "        outputs = global_model(x_test)\n",
    "        # 获取预测结果\n",
    "        _, predicted = torch.max(outputs.data, 1)\n",
    "        # 统计测试集大小\n",
    "        total += y_test.size(0)\n",
    "        # 统计预测正确的数量\n",
    "        correct += (predicted == y_test).sum().item()\n",
    "print(f'Accuracy on the test set: {100 * correct / total}%')"
   ]
  }
 ],
 "metadata": {
  "kernelspec": {
   "display_name": "pytorch",
   "language": "python",
   "name": "python3"
  },
  "language_info": {
   "codemirror_mode": {
    "name": "ipython",
    "version": 3
   },
   "file_extension": ".py",
   "mimetype": "text/x-python",
   "name": "python",
   "nbconvert_exporter": "python",
   "pygments_lexer": "ipython3",
   "version": "3.12.3"
  }
 },
 "nbformat": 4,
 "nbformat_minor": 2
}
